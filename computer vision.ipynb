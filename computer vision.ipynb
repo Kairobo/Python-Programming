{
 "cells": [
  {
   "cell_type": "markdown",
   "metadata": {},
   "source": [
    "形态学滤波\n"
   ]
  },
  {
   "cell_type": "code",
   "execution_count": 7,
   "metadata": {},
   "outputs": [
    {
     "data": {
      "image/png": "[encoded data removed]",
      "text/plain": [
       "<matplotlib.figure.Figure at 0x7f52e9d6b710>"
      ]
     },
     "metadata": {},
     "output_type": "display_data"
    }
   ],
   "source": [
    "from skimage import data\n",
    "import skimage.morphology as sm\n",
    "import matplotlib.pyplot as plt\n",
    "#img=data.checkerboard()\n",
    "img = plt.imread('./3.png')\n",
    "dst1=sm.erosion(img,sm.square(2))  #用边长为5的正方形滤波器进行膨胀滤波\n",
    "dst2=sm.erosion(img,sm.square(25))  #用边长为25的正方形滤波器进行膨胀滤波\n",
    "\n",
    "plt.figure('morphology',figsize=(8,8))\n",
    "plt.subplot(131)\n",
    "plt.title('origin image')\n",
    "plt.imshow(img,plt.cm.gray)\n",
    "\n",
    "plt.subplot(132)\n",
    "plt.title('morphological image')\n",
    "plt.imshow(dst1,plt.cm.gray)\n",
    "\n",
    "plt.subplot(133)\n",
    "plt.title('morphological image')\n",
    "plt.imshow(dst2,plt.cm.gray)\n",
    "plt.show()"
   ]
  },
  {
   "cell_type": "code",
   "execution_count": null,
   "metadata": {
    "collapsed": true
   },
   "outputs": [],
   "source": []
  }
 ],
 "metadata": {
  "kernelspec": {
   "display_name": "Python 2",
   "language": "python",
   "name": "python2"
  },
  "language_info": {
   "codemirror_mode": {
    "name": "ipython",
    "version": 2
   },
   "file_extension": ".py",
   "mimetype": "text/x-python",
   "name": "python",
   "nbconvert_exporter": "python",
   "pygments_lexer": "ipython2",
   "version": "2.7.12"
  }
 },
 "nbformat": 4,
 "nbformat_minor": 2
}
