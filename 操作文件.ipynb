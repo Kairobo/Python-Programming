{
 "cells": [
  {
   "cell_type": "markdown",
   "metadata": {},
   "source": [
    "存数组"
   ]
  },
  {
   "cell_type": "code",
   "execution_count": 3,
   "metadata": {},
   "outputs": [
    {
     "data": {
      "text/plain": [
       "array([[1, 2],\n",
       "       [3, 4]])"
      ]
     },
     "execution_count": 3,
     "metadata": {},
     "output_type": "execute_result"
    }
   ],
   "source": [
    "import numpy as np\n",
    "a = [[1,2],[3,4]]\n",
    "np.save(\"text.npy\",a)\n",
    "b = np.load(\"text.npy\")\n",
    "b"
   ]
  },
  {
   "cell_type": "markdown",
   "metadata": {},
   "source": [
    "点图片存坐标,例子"
   ]
  },
  {
   "cell_type": "code",
   "execution_count": 11,
   "metadata": {},
   "outputs": [
    {
     "name": "stdout",
     "output_type": "stream",
     "text": [
      "['./images/0.png' './images/5.png'] ['./masks/0.png' './masks/5.png']\n"
     ]
    }
   ],
   "source": [
    "from matplotlib import pyplot as plt \n",
    "import numpy as np \n",
    "from glob import glob\n",
    "center_dir = './centers'\n",
    "images_dir = './images'\n",
    "masks_dir = './masks'\n",
    "num = 11749\n",
    "\n",
    "testword = [[123,456],[224,567]]\n",
    "f_i = np.sort(glob(images_dir+'/*.png'))\n",
    "f_m = np.sort(glob(masks_dir+'/*.png'))\n",
    "#print f_i,f_m\n",
    " \n"
   ]
  },
  {
   "cell_type": "markdown",
   "metadata": {},
   "source": [
    "sort"
   ]
  },
  {
   "cell_type": "code",
   "execution_count": 9,
   "metadata": {},
   "outputs": [
    {
     "data": {
      "text/plain": [
       "array(['1', '2', '4', '5'], \n",
       "      dtype='|S1')"
      ]
     },
     "execution_count": 9,
     "metadata": {},
     "output_type": "execute_result"
    }
   ],
   "source": [
    "import numpy as np\n",
    "a = ['1','2','5','4']\n",
    "np.sort(a)\n"
   ]
  },
  {
   "cell_type": "code",
   "execution_count": 2,
   "metadata": {},
   "outputs": [
    {
     "data": {
      "text/plain": [
       "[1, 2]"
      ]
     },
     "execution_count": 2,
     "metadata": {},
     "output_type": "execute_result"
    }
   ],
   "source": [
    "a = ['./1.jpg','./2.jpg']\n",
    "map(lambda x:int(x.split('/')[1].split('.')[0]),a)\n"
   ]
  },
  {
   "cell_type": "code",
   "execution_count": 14,
   "metadata": {},
   "outputs": [
    {
     "data": {
      "text/plain": [
       "{2: 101, 4: 2, 5: 1}"
      ]
     },
     "execution_count": 14,
     "metadata": {},
     "output_type": "execute_result"
    }
   ],
   "source": [
    "a = [1 ,101,2]\n",
    "b = [5,2,4]\n",
    "dict_n = dict(zip(b,a))\n",
    "aa =sorted(dict_n)\n",
    "dict_n"
   ]
  },
  {
   "cell_type": "markdown",
   "metadata": {
    "collapsed": true
   },
   "source": [
    "存字典"
   ]
  },
  {
   "cell_type": "code",
   "execution_count": 4,
   "metadata": {},
   "outputs": [
    {
     "name": "stdout",
     "output_type": "stream",
     "text": [
      "2\n"
     ]
    }
   ],
   "source": [
    "import pickle\n",
    "a = {1:2,2:3}\n",
    "f = file('data.txt','wb')\n",
    "pickle.dump(a,f)\n",
    "f.close()\n",
    "b = open('data.txt','rb')\n",
    "c =  pickle.load(b)\n",
    "print c[1]\n"
   ]
  },
  {
   "cell_type": "code",
   "execution_count": null,
   "metadata": {
    "collapsed": true
   },
   "outputs": [],
   "source": []
  }
 ],
 "metadata": {
  "kernelspec": {
   "display_name": "Python 2",
   "language": "python",
   "name": "python2"
  },
  "language_info": {
   "codemirror_mode": {
    "name": "ipython",
    "version": 2
   },
   "file_extension": ".py",
   "mimetype": "text/x-python",
   "name": "python",
   "nbconvert_exporter": "python",
   "pygments_lexer": "ipython2",
   "version": "2.7.12"
  }
 },
 "nbformat": 4,
 "nbformat_minor": 2
}
